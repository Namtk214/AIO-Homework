{
  "nbformat": 4,
  "nbformat_minor": 0,
  "metadata": {
    "colab": {
      "provenance": [],
      "authorship_tag": "ABX9TyPPWn7rnoI8wCveHyK41S24",
      "include_colab_link": true
    },
    "kernelspec": {
      "name": "python3",
      "display_name": "Python 3"
    },
    "language_info": {
      "name": "python"
    }
  },
  "cells": [
    {
      "cell_type": "markdown",
      "metadata": {
        "id": "view-in-github",
        "colab_type": "text"
      },
      "source": [
        "<a href=\"https://colab.research.google.com/github/Namtk214/AIO-Homework/blob/main/Module2_Week4.ipynb\" target=\"_parent\"><img src=\"https://colab.research.google.com/assets/colab-badge.svg\" alt=\"Open In Colab\"/></a>"
      ]
    },
    {
      "cell_type": "code",
      "source": [
        "import numpy as np"
      ],
      "metadata": {
        "id": "fI2K0_r3_wmk"
      },
      "execution_count": 1,
      "outputs": []
    },
    {
      "cell_type": "code",
      "execution_count": 3,
      "metadata": {
        "colab": {
          "base_uri": "https://localhost:8080/"
        },
        "id": "UQeJ3rGa-61A",
        "outputId": "452a3ac5-263e-46f0-ced2-055e45ce5f58"
      },
      "outputs": [
        {
          "output_type": "stream",
          "name": "stdout",
          "text": [
            "1.8\n"
          ]
        }
      ],
      "source": [
        "# Question 1\n",
        "def compute_mean(x):\n",
        "    return np.mean(x)\n",
        "X = [2, 0, 2, 2, 7, 4, -2, 5, -1, -1]\n",
        "print(compute_mean(X))"
      ]
    },
    {
      "cell_type": "code",
      "source": [
        "# Question 2:\n",
        "def compute_median(x):\n",
        "    x.sort()\n",
        "    if len(x) % 2 == 0:\n",
        "        return (x[len(x) // 2] + x[len(x) // 2 - 1]) / 2\n",
        "    else:\n",
        "        return x[len(x) // 2]\n",
        "X = [1, 5, 4, 4, 9, 13]\n",
        "print(compute_median(X))"
      ],
      "metadata": {
        "colab": {
          "base_uri": "https://localhost:8080/"
        },
        "id": "TIgkVtdaAEgd",
        "outputId": "c15d1db0-f932-4ae2-ca36-1691ddbb5a3f"
      },
      "execution_count": 4,
      "outputs": [
        {
          "output_type": "stream",
          "name": "stdout",
          "text": [
            "4.5\n"
          ]
        }
      ]
    },
    {
      "cell_type": "code",
      "source": [
        "# Question 3\n",
        "def compute_std(x):\n",
        "    return np.std(x)\n",
        "X = [171, 176, 155, 167, 169, 182]\n",
        "print(compute_std(X))\n"
      ],
      "metadata": {
        "colab": {
          "base_uri": "https://localhost:8080/"
        },
        "id": "v8-8wSnWAVfv",
        "outputId": "8888f323-0db8-4ce6-b9e3-a8ec8c2fcd25"
      },
      "execution_count": 5,
      "outputs": [
        {
          "output_type": "stream",
          "name": "stdout",
          "text": [
            "8.32666399786453\n"
          ]
        }
      ]
    },
    {
      "cell_type": "code",
      "source": [
        "# Question 4\n",
        "def compute_correlation_coefficient(x, y):\n",
        "    return np.corrcoef(x, y)\n",
        "X = np.asarray ([ -2 , -5 , -11 , 6 , 4 , 15 , 9])\n",
        "Y = np.asarray ([4 , 25 , 121 , 36 , 16 , 225 , 81])\n",
        "print(compute_correlation_coefficient(X, Y))"
      ],
      "metadata": {
        "colab": {
          "base_uri": "https://localhost:8080/"
        },
        "id": "377AVaYXAs__",
        "outputId": "07a12ea5-6e11-483a-8c19-456fbcf1356a"
      },
      "execution_count": 7,
      "outputs": [
        {
          "output_type": "stream",
          "name": "stdout",
          "text": [
            "[[1.         0.42026333]\n",
            " [0.42026333 1.        ]]\n"
          ]
        }
      ]
    },
    {
      "cell_type": "code",
      "source": [
        "!gdown 1iA0WmVfW88HyJvTBSQDI5vesf-pgKabq"
      ],
      "metadata": {
        "colab": {
          "base_uri": "https://localhost:8080/"
        },
        "id": "JlBD4OmaBIK2",
        "outputId": "67dc08d0-d662-42fd-fc1e-af8de542d98f"
      },
      "execution_count": 8,
      "outputs": [
        {
          "output_type": "stream",
          "name": "stdout",
          "text": [
            "Downloading...\n",
            "From: https://drive.google.com/uc?id=1iA0WmVfW88HyJvTBSQDI5vesf-pgKabq\n",
            "To: /content/advertising.csv\n",
            "\r  0% 0.00/4.06k [00:00<?, ?B/s]\r100% 4.06k/4.06k [00:00<00:00, 14.0MB/s]\n"
          ]
        }
      ]
    },
    {
      "cell_type": "code",
      "source": [
        "import pandas as pd\n",
        "data = pd.read_csv('/content/advertising.csv')\n",
        "x = data['TV']\n",
        "y = data['Radio']\n",
        "print(compute_correlation_coefficient(x, y))"
      ],
      "metadata": {
        "colab": {
          "base_uri": "https://localhost:8080/"
        },
        "id": "Ci235LOTB7yP",
        "outputId": "d3b3aef8-db19-4143-bf75-93b6c1e33f65"
      },
      "execution_count": 11,
      "outputs": [
        {
          "output_type": "stream",
          "name": "stdout",
          "text": [
            "[[1.         0.05480866]\n",
            " [0.05480866 1.        ]]\n"
          ]
        }
      ]
    },
    {
      "cell_type": "code",
      "source": [
        "features = ['TV', 'Radio', 'Newspaper']\n",
        "\n",
        "for feature_1 in features:\n",
        "    for feature_2 in features:\n",
        "        correlation_coefficient = compute_correlation_coefficient(data[feature_1], data[feature_2])\n",
        "        print(f\"Correlation coefficient between {feature_1} and {feature_2}: {correlation_coefficient}\")\n",
        ""
      ],
      "metadata": {
        "colab": {
          "base_uri": "https://localhost:8080/"
        },
        "id": "t0omuzFyDz1-",
        "outputId": "2de4768f-a957-47b6-f781-d9ebd90dfe98"
      },
      "execution_count": 12,
      "outputs": [
        {
          "output_type": "stream",
          "name": "stdout",
          "text": [
            "Correlation coefficient between TV and TV: [[1. 1.]\n",
            " [1. 1.]]\n",
            "Correlation coefficient between TV and Radio: [[1.         0.05480866]\n",
            " [0.05480866 1.        ]]\n",
            "Correlation coefficient between TV and Newspaper: [[1.         0.05664787]\n",
            " [0.05664787 1.        ]]\n",
            "Correlation coefficient between Radio and TV: [[1.         0.05480866]\n",
            " [0.05480866 1.        ]]\n",
            "Correlation coefficient between Radio and Radio: [[1. 1.]\n",
            " [1. 1.]]\n",
            "Correlation coefficient between Radio and Newspaper: [[1.         0.35410375]\n",
            " [0.35410375 1.        ]]\n",
            "Correlation coefficient between Newspaper and TV: [[1.         0.05664787]\n",
            " [0.05664787 1.        ]]\n",
            "Correlation coefficient between Newspaper and Radio: [[1.         0.35410375]\n",
            " [0.35410375 1.        ]]\n",
            "Correlation coefficient between Newspaper and Newspaper: [[1. 1.]\n",
            " [1. 1.]]\n"
          ]
        }
      ]
    },
    {
      "cell_type": "code",
      "source": [
        "x = data['Radio']\n",
        "y = data['Newspaper']\n",
        "print(compute_correlation_coefficient(x, y))"
      ],
      "metadata": {
        "colab": {
          "base_uri": "https://localhost:8080/"
        },
        "id": "H1gv-wlFEwK4",
        "outputId": "6011f129-37c8-4492-c6e3-6271ed036666"
      },
      "execution_count": 15,
      "outputs": [
        {
          "output_type": "stream",
          "name": "stdout",
          "text": [
            "[[1.         0.35410375]\n",
            " [0.35410375 1.        ]]\n"
          ]
        }
      ]
    },
    {
      "cell_type": "code",
      "source": [
        "data_corr_coed = data.corr()\n",
        "print(data_corr_coed)"
      ],
      "metadata": {
        "colab": {
          "base_uri": "https://localhost:8080/"
        },
        "id": "Z2zOzuAOFB8p",
        "outputId": "5dcba428-4882-4b0c-9170-93b372aefd7d"
      },
      "execution_count": 16,
      "outputs": [
        {
          "output_type": "stream",
          "name": "stdout",
          "text": [
            "                 TV     Radio  Newspaper     Sales\n",
            "TV         1.000000  0.054809   0.056648  0.901208\n",
            "Radio      0.054809  1.000000   0.354104  0.349631\n",
            "Newspaper  0.056648  0.354104   1.000000  0.157960\n",
            "Sales      0.901208  0.349631   0.157960  1.000000\n"
          ]
        }
      ]
    },
    {
      "cell_type": "code",
      "source": [
        "!pip install seaborn\n",
        "!pip install matplotlib"
      ],
      "metadata": {
        "colab": {
          "base_uri": "https://localhost:8080/"
        },
        "id": "apoT54bDF8EI",
        "outputId": "9b360433-22de-4eef-a732-37fda78f0f14"
      },
      "execution_count": 22,
      "outputs": [
        {
          "output_type": "stream",
          "name": "stdout",
          "text": [
            "Requirement already satisfied: seaborn in /usr/local/lib/python3.10/dist-packages (0.13.1)\n",
            "Requirement already satisfied: numpy!=1.24.0,>=1.20 in /usr/local/lib/python3.10/dist-packages (from seaborn) (1.26.4)\n",
            "Requirement already satisfied: pandas>=1.2 in /usr/local/lib/python3.10/dist-packages (from seaborn) (2.1.4)\n",
            "Requirement already satisfied: matplotlib!=3.6.1,>=3.4 in /usr/local/lib/python3.10/dist-packages (from seaborn) (3.7.1)\n",
            "Requirement already satisfied: contourpy>=1.0.1 in /usr/local/lib/python3.10/dist-packages (from matplotlib!=3.6.1,>=3.4->seaborn) (1.2.1)\n",
            "Requirement already satisfied: cycler>=0.10 in /usr/local/lib/python3.10/dist-packages (from matplotlib!=3.6.1,>=3.4->seaborn) (0.12.1)\n",
            "Requirement already satisfied: fonttools>=4.22.0 in /usr/local/lib/python3.10/dist-packages (from matplotlib!=3.6.1,>=3.4->seaborn) (4.53.1)\n",
            "Requirement already satisfied: kiwisolver>=1.0.1 in /usr/local/lib/python3.10/dist-packages (from matplotlib!=3.6.1,>=3.4->seaborn) (1.4.5)\n",
            "Requirement already satisfied: packaging>=20.0 in /usr/local/lib/python3.10/dist-packages (from matplotlib!=3.6.1,>=3.4->seaborn) (24.1)\n",
            "Requirement already satisfied: pillow>=6.2.0 in /usr/local/lib/python3.10/dist-packages (from matplotlib!=3.6.1,>=3.4->seaborn) (9.4.0)\n",
            "Requirement already satisfied: pyparsing>=2.3.1 in /usr/local/lib/python3.10/dist-packages (from matplotlib!=3.6.1,>=3.4->seaborn) (3.1.2)\n",
            "Requirement already satisfied: python-dateutil>=2.7 in /usr/local/lib/python3.10/dist-packages (from matplotlib!=3.6.1,>=3.4->seaborn) (2.8.2)\n",
            "Requirement already satisfied: pytz>=2020.1 in /usr/local/lib/python3.10/dist-packages (from pandas>=1.2->seaborn) (2024.1)\n",
            "Requirement already satisfied: tzdata>=2022.1 in /usr/local/lib/python3.10/dist-packages (from pandas>=1.2->seaborn) (2024.1)\n",
            "Requirement already satisfied: six>=1.5 in /usr/local/lib/python3.10/dist-packages (from python-dateutil>=2.7->matplotlib!=3.6.1,>=3.4->seaborn) (1.16.0)\n",
            "Requirement already satisfied: matplotlib in /usr/local/lib/python3.10/dist-packages (3.7.1)\n",
            "Requirement already satisfied: contourpy>=1.0.1 in /usr/local/lib/python3.10/dist-packages (from matplotlib) (1.2.1)\n",
            "Requirement already satisfied: cycler>=0.10 in /usr/local/lib/python3.10/dist-packages (from matplotlib) (0.12.1)\n",
            "Requirement already satisfied: fonttools>=4.22.0 in /usr/local/lib/python3.10/dist-packages (from matplotlib) (4.53.1)\n",
            "Requirement already satisfied: kiwisolver>=1.0.1 in /usr/local/lib/python3.10/dist-packages (from matplotlib) (1.4.5)\n",
            "Requirement already satisfied: numpy>=1.20 in /usr/local/lib/python3.10/dist-packages (from matplotlib) (1.26.4)\n",
            "Requirement already satisfied: packaging>=20.0 in /usr/local/lib/python3.10/dist-packages (from matplotlib) (24.1)\n",
            "Requirement already satisfied: pillow>=6.2.0 in /usr/local/lib/python3.10/dist-packages (from matplotlib) (9.4.0)\n",
            "Requirement already satisfied: pyparsing>=2.3.1 in /usr/local/lib/python3.10/dist-packages (from matplotlib) (3.1.2)\n",
            "Requirement already satisfied: python-dateutil>=2.7 in /usr/local/lib/python3.10/dist-packages (from matplotlib) (2.8.2)\n",
            "Requirement already satisfied: six>=1.5 in /usr/local/lib/python3.10/dist-packages (from python-dateutil>=2.7->matplotlib) (1.16.0)\n"
          ]
        }
      ]
    },
    {
      "cell_type": "code",
      "source": [
        "#Question 9:\n",
        "import matplotlib.pyplot as plt\n",
        "import seaborn as sns\n",
        "data = pd.read_csv('/content/advertising.csv')\n",
        "plt.figure(figsize=(10, 8))\n",
        "sns.heatmap(data.corr(), annot=True, cmap='coolwarm')\n",
        "plt.title('Correlation Heatmap')\n",
        "plt.show()\n"
      ],
      "metadata": {
        "colab": {
          "base_uri": "https://localhost:8080/",
          "height": 699
        },
        "id": "_w5e7R_DFv60",
        "outputId": "85f43b5a-4b0b-483d-e25c-2ac26ba1eb31"
      },
      "execution_count": 25,
      "outputs": [
        {
          "output_type": "display_data",
          "data": {
            "text/plain": [
              "<Figure size 1000x800 with 2 Axes>"
            ],
            "image/png": "[encoded data removed]"
          },
          "metadata": {}
        }
      ]
    },
    {
      "cell_type": "code",
      "source": [
        "#Question 10:\n",
        "!gdown 1jh2p2DlaWsDo_vEWIcTrNh3mUuXd-cw6"
      ],
      "metadata": {
        "colab": {
          "base_uri": "https://localhost:8080/"
        },
        "id": "7SFeN9ZKHXiH",
        "outputId": "d7a45ca0-2291-49d1-875e-350ad5b3a5d4"
      },
      "execution_count": 26,
      "outputs": [
        {
          "output_type": "stream",
          "name": "stdout",
          "text": [
            "Downloading...\n",
            "From: https://drive.google.com/uc?id=1jh2p2DlaWsDo_vEWIcTrNh3mUuXd-cw6\n",
            "To: /content/vi_text_retrieval.csv\n",
            "\r  0% 0.00/201k [00:00<?, ?B/s]\r100% 201k/201k [00:00<00:00, 108MB/s]\n"
          ]
        }
      ]
    },
    {
      "cell_type": "code",
      "source": [
        "#Question 10:\n",
        "import pandas as pd\n",
        "import numpy as np\n",
        "from sklearn.metrics.pairwise import cosine_similarity\n",
        "from sklearn.feature_extraction.text import TfidfVectorizer\n",
        "vi_data_df = pd.read_csv('/content/vi_text_retrieval.csv')\n",
        "context = vi_data_df['text']\n",
        "context = [doc.lower() for doc in context]\n",
        "\n",
        "tfidf_vectorizer = TfidfVectorizer()\n",
        "context_embedded = tfidf_vectorizer.fit_transform(context).toarray()\n",
        "print(context_embedded)"
      ],
      "metadata": {
        "colab": {
          "base_uri": "https://localhost:8080/"
        },
        "id": "BrfHzXLnHnXw",
        "outputId": "b4ed64e1-a727-4317-d53a-4935229c104e"
      },
      "execution_count": 40,
      "outputs": [
        {
          "output_type": "stream",
          "name": "stdout",
          "text": [
            "[[0. 0. 0. ... 0. 0. 0.]\n",
            " [0. 0. 0. ... 0. 0. 0.]\n",
            " [0. 0. 0. ... 0. 0. 0.]\n",
            " ...\n",
            " [0. 0. 0. ... 0. 0. 0.]\n",
            " [0. 0. 0. ... 0. 0. 0.]\n",
            " [0. 0. 0. ... 0. 0. 0.]]\n"
          ]
        }
      ]
    },
    {
      "cell_type": "code",
      "source": [
        "querry_embedded = tfidf_vectorizer.transform([question.lower()]).toarray()\n",
        "cosine_similarities = cosine_similarity(querry_embedded, context_embedded).reshape((-1,))\n"
      ],
      "metadata": {
        "id": "Ne_obFgDPANe"
      },
      "execution_count": 41,
      "outputs": []
    },
    {
      "cell_type": "code",
      "source": [
        "def tfidf_search(question, tfidf_vectorizer, top_d=5):\n",
        "  querry_embedded = tfidf_vectorizer.transform([question.lower()]).toarray()\n",
        "  cosine_similarities = cosine_similarity(querry_embedded, context_embedded).reshape((-1,))\n",
        "  result = []\n",
        "  for idx in cosine_similarities.argsort()[-top_d:][::-1]:\n",
        "    doc_score = {\n",
        "        'id': idx,\n",
        "        'cosine_score': cosine_similarities[idx]\n",
        "    }\n",
        "    result.append((idx, cosine_similarities[idx]))\n",
        "  return result\n",
        "question = vi_data_df.iloc[0]['question']\n",
        "result = tfidf_search(question, tfidf_vectorizer, top_d=5)\n",
        "result[0][1]"
      ],
      "metadata": {
        "colab": {
          "base_uri": "https://localhost:8080/"
        },
        "id": "jfXiLqA0LGkR",
        "outputId": "5b75ee98-cca0-4e75-e09a-f1b287ab0d69"
      },
      "execution_count": 43,
      "outputs": [
        {
          "output_type": "execute_result",
          "data": {
            "text/plain": [
              "0.6279910475266974"
            ]
          },
          "metadata": {},
          "execution_count": 43
        }
      ]
    },
    {
      "cell_type": "code",
      "source": [
        "def corr_search(question, tfidf_vectorizer, top_d=5):\n",
        "  querry_embedded = tfidf_vectorizer.transform([question.lower()]).toarray()\n",
        "  corr_scores = compute_correlation_coefficient(querry_embedded, context_embedded)\n",
        "  corr_scores = corr_scores[0, 1:]\n",
        "  result = []\n",
        "  for idx in cosine_similarities.argsort()[-top_d:][::-1]:\n",
        "    doc_score = {\n",
        "        'id': idx,\n",
        "        'corr_score': corr_scores[idx]\n",
        "    }\n",
        "    result.append(doc_score)\n",
        "  return result\n",
        "question = vi_data_df.iloc[0]['question']\n",
        "result = corr_search(question, tfidf_vectorizer, top_d=5)\n",
        "result[1]['corr_score']"
      ],
      "metadata": {
        "colab": {
          "base_uri": "https://localhost:8080/"
        },
        "id": "_Bipky5VQGKg",
        "outputId": "a683186e-39cc-4325-a905-233cd05ed465"
      },
      "execution_count": 52,
      "outputs": [
        {
          "output_type": "execute_result",
          "data": {
            "text/plain": [
              "0.20734246471973258"
            ]
          },
          "metadata": {},
          "execution_count": 52
        }
      ]
    }
  ]
}