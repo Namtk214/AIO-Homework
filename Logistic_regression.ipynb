{
  "nbformat": 4,
  "nbformat_minor": 0,
  "metadata": {
    "colab": {
      "provenance": [],
      "authorship_tag": "ABX9TyPrvhJrCZprnRN7hei0jV+C",
      "include_colab_link": true
    },
    "kernelspec": {
      "name": "python3",
      "display_name": "Python 3"
    },
    "language_info": {
      "name": "python"
    }
  },
  "cells": [
    {
      "cell_type": "markdown",
      "metadata": {
        "id": "view-in-github",
        "colab_type": "text"
      },
      "source": [
        "<a href=\"https://colab.research.google.com/github/Namtk214/AIO-Homework/blob/main/Logistic_regression.ipynb\" target=\"_parent\"><img src=\"https://colab.research.google.com/assets/colab-badge.svg\" alt=\"Open In Colab\"/></a>"
      ]
    },
    {
      "cell_type": "code",
      "execution_count": null,
      "metadata": {
        "id": "PmjtOJweGwJP",
        "colab": {
          "base_uri": "https://localhost:8080/"
        },
        "outputId": "e6389ff1-1a13-49a5-a06f-8b6709db83fb"
      },
      "outputs": [
        {
          "output_type": "stream",
          "name": "stdout",
          "text": [
            "Downloading...\n",
            "From: https://drive.google.com/uc?id=1SFWQ7Zi83Gff-RVrlHj0z4Llm1Nq4BBA\n",
            "To: /content/titanic_modified_dataset.csv\n",
            "\r  0% 0.00/25.9k [00:00<?, ?B/s]\r100% 25.9k/25.9k [00:00<00:00, 38.4MB/s]\n"
          ]
        }
      ],
      "source": [
        "!gdown 1SFWQ7Zi83Gff-RVrlHj0z4Llm1Nq4BBA"
      ]
    },
    {
      "cell_type": "code",
      "source": [
        "import pandas as pd\n",
        "import numpy as np\n",
        "import matplotlib.pyplot as plt\n",
        "\n",
        "from sklearn.model_selection import train_test_split\n",
        "from sklearn.preprocessing import StandardScaler"
      ],
      "metadata": {
        "id": "K0LeYrM9ZmBF"
      },
      "execution_count": null,
      "outputs": []
    },
    {
      "cell_type": "code",
      "source": [
        "dataset_path = '/content/titanic_modified_dataset.csv'\n",
        "df = pd.read_csv(dataset_path, index_col='PassengerId')\n",
        "df.head()"
      ],
      "metadata": {
        "colab": {
          "base_uri": "https://localhost:8080/",
          "height": 258
        },
        "id": "wC9f9D6EaOol",
        "outputId": "860f75a7-05ef-403e-9603-e1d4f58fa54e"
      },
      "execution_count": null,
      "outputs": [
        {
          "output_type": "execute_result",
          "data": {
            "text/plain": [
              "             Pclass  Sex   Age  SibSp  Parch     Fare  Embarked  Title  \\\n",
              "PassengerId                                                              \n",
              "1                 3    0  22.0      1      0   7.2500         0      0   \n",
              "2                 1    1  38.0      1      0  71.2833         1      1   \n",
              "3                 3    1  26.0      0      0   7.9250         0      2   \n",
              "4                 1    1  35.0      1      0  53.1000         0      1   \n",
              "5                 3    0  35.0      0      0   8.0500         0      0   \n",
              "\n",
              "             Survived  \n",
              "PassengerId            \n",
              "1                   0  \n",
              "2                   1  \n",
              "3                   1  \n",
              "4                   1  \n",
              "5                   0  "
            ],
            "text/html": [
              "\n",
              "  <div id=\"df-6ee16623-ea8b-4fe6-885f-ba221aa56a7a\" class=\"colab-df-container\">\n",
              "    <div>\n",
              "<style scoped>\n",
              "    .dataframe tbody tr th:only-of-type {\n",
              "        vertical-align: middle;\n",
              "    }\n",
              "\n",
              "    .dataframe tbody tr th {\n",
              "        vertical-align: top;\n",
              "    }\n",
              "\n",
              "    .dataframe thead th {\n",
              "        text-align: right;\n",
              "    }\n",
              "</style>\n",
              "<table border=\"1\" class=\"dataframe\">\n",
              "  <thead>\n",
              "    <tr style=\"text-align: right;\">\n",
              "      <th></th>\n",
              "      <th>Pclass</th>\n",
              "      <th>Sex</th>\n",
              "      <th>Age</th>\n",
              "      <th>SibSp</th>\n",
              "      <th>Parch</th>\n",
              "      <th>Fare</th>\n",
              "      <th>Embarked</th>\n",
              "      <th>Title</th>\n",
              "      <th>Survived</th>\n",
              "    </tr>\n",
              "    <tr>\n",
              "      <th>PassengerId</th>\n",
              "      <th></th>\n",
              "      <th></th>\n",
              "      <th></th>\n",
              "      <th></th>\n",
              "      <th></th>\n",
              "      <th></th>\n",
              "      <th></th>\n",
              "      <th></th>\n",
              "      <th></th>\n",
              "    </tr>\n",
              "  </thead>\n",
              "  <tbody>\n",
              "    <tr>\n",
              "      <th>1</th>\n",
              "      <td>3</td>\n",
              "      <td>0</td>\n",
              "      <td>22.0</td>\n",
              "      <td>1</td>\n",
              "      <td>0</td>\n",
              "      <td>7.2500</td>\n",
              "      <td>0</td>\n",
              "      <td>0</td>\n",
              "      <td>0</td>\n",
              "    </tr>\n",
              "    <tr>\n",
              "      <th>2</th>\n",
              "      <td>1</td>\n",
              "      <td>1</td>\n",
              "      <td>38.0</td>\n",
              "      <td>1</td>\n",
              "      <td>0</td>\n",
              "      <td>71.2833</td>\n",
              "      <td>1</td>\n",
              "      <td>1</td>\n",
              "      <td>1</td>\n",
              "    </tr>\n",
              "    <tr>\n",
              "      <th>3</th>\n",
              "      <td>3</td>\n",
              "      <td>1</td>\n",
              "      <td>26.0</td>\n",
              "      <td>0</td>\n",
              "      <td>0</td>\n",
              "      <td>7.9250</td>\n",
              "      <td>0</td>\n",
              "      <td>2</td>\n",
              "      <td>1</td>\n",
              "    </tr>\n",
              "    <tr>\n",
              "      <th>4</th>\n",
              "      <td>1</td>\n",
              "      <td>1</td>\n",
              "      <td>35.0</td>\n",
              "      <td>1</td>\n",
              "      <td>0</td>\n",
              "      <td>53.1000</td>\n",
              "      <td>0</td>\n",
              "      <td>1</td>\n",
              "      <td>1</td>\n",
              "    </tr>\n",
              "    <tr>\n",
              "      <th>5</th>\n",
              "      <td>3</td>\n",
              "      <td>0</td>\n",
              "      <td>35.0</td>\n",
              "      <td>0</td>\n",
              "      <td>0</td>\n",
              "      <td>8.0500</td>\n",
              "      <td>0</td>\n",
              "      <td>0</td>\n",
              "      <td>0</td>\n",
              "    </tr>\n",
              "  </tbody>\n",
              "</table>\n",
              "</div>\n",
              "    <div class=\"colab-df-buttons\">\n",
              "\n",
              "  <div class=\"colab-df-container\">\n",
              "    <button class=\"colab-df-convert\" onclick=\"convertToInteractive('df-6ee16623-ea8b-4fe6-885f-ba221aa56a7a')\"\n",
              "            title=\"Convert this dataframe to an interactive table.\"\n",
              "            style=\"display:none;\">\n",
              "\n",
              "  <svg xmlns=\"http://www.w3.org/2000/svg\" height=\"24px\" viewBox=\"0 -960 960 960\">\n",
              "    <path d=\"M120-120v-720h720v720H120Zm60-500h600v-160H180v160Zm220 220h160v-160H400v160Zm0 220h160v-160H400v160ZM180-400h160v-160H180v160Zm440 0h160v-160H620v160ZM180-180h160v-160H180v160Zm440 0h160v-160H620v160Z\"/>\n",
              "  </svg>\n",
              "    </button>\n",
              "\n",
              "  <style>\n",
              "    .colab-df-container {\n",
              "      display:flex;\n",
              "      gap: 12px;\n",
              "    }\n",
              "\n",
              "    .colab-df-convert {\n",
              "      background-color: #E8F0FE;\n",
              "      border: none;\n",
              "      border-radius: 50%;\n",
              "      cursor: pointer;\n",
              "      display: none;\n",
              "      fill: #1967D2;\n",
              "      height: 32px;\n",
              "      padding: 0 0 0 0;\n",
              "      width: 32px;\n",
              "    }\n",
              "\n",
              "    .colab-df-convert:hover {\n",
              "      background-color: #E2EBFA;\n",
              "      box-shadow: 0px 1px 2px rgba(60, 64, 67, 0.3), 0px 1px 3px 1px rgba(60, 64, 67, 0.15);\n",
              "      fill: #174EA6;\n",
              "    }\n",
              "\n",
              "    .colab-df-buttons div {\n",
              "      margin-bottom: 4px;\n",
              "    }\n",
              "\n",
              "    [theme=dark] .colab-df-convert {\n",
              "      background-color: #3B4455;\n",
              "      fill: #D2E3FC;\n",
              "    }\n",
              "\n",
              "    [theme=dark] .colab-df-convert:hover {\n",
              "      background-color: #434B5C;\n",
              "      box-shadow: 0px 1px 3px 1px rgba(0, 0, 0, 0.15);\n",
              "      filter: drop-shadow(0px 1px 2px rgba(0, 0, 0, 0.3));\n",
              "      fill: #FFFFFF;\n",
              "    }\n",
              "  </style>\n",
              "\n",
              "    <script>\n",
              "      const buttonEl =\n",
              "        document.querySelector('#df-6ee16623-ea8b-4fe6-885f-ba221aa56a7a button.colab-df-convert');\n",
              "      buttonEl.style.display =\n",
              "        google.colab.kernel.accessAllowed ? 'block' : 'none';\n",
              "\n",
              "      async function convertToInteractive(key) {\n",
              "        const element = document.querySelector('#df-6ee16623-ea8b-4fe6-885f-ba221aa56a7a');\n",
              "        const dataTable =\n",
              "          await google.colab.kernel.invokeFunction('convertToInteractive',\n",
              "                                                    [key], {});\n",
              "        if (!dataTable) return;\n",
              "\n",
              "        const docLinkHtml = 'Like what you see? Visit the ' +\n",
              "          '<a target=\"_blank\" href=https://colab.research.google.com/notebooks/data_table.ipynb>data table notebook</a>'\n",
              "          + ' to learn more about interactive tables.';\n",
              "        element.innerHTML = '';\n",
              "        dataTable['output_type'] = 'display_data';\n",
              "        await google.colab.output.renderOutput(dataTable, element);\n",
              "        const docLink = document.createElement('div');\n",
              "        docLink.innerHTML = docLinkHtml;\n",
              "        element.appendChild(docLink);\n",
              "      }\n",
              "    </script>\n",
              "  </div>\n",
              "\n",
              "\n",
              "<div id=\"df-e6e9a9ad-a576-4190-aea2-8f6e347693f5\">\n",
              "  <button class=\"colab-df-quickchart\" onclick=\"quickchart('df-e6e9a9ad-a576-4190-aea2-8f6e347693f5')\"\n",
              "            title=\"Suggest charts\"\n",
              "            style=\"display:none;\">\n",
              "\n",
              "<svg xmlns=\"http://www.w3.org/2000/svg\" height=\"24px\"viewBox=\"0 0 24 24\"\n",
              "     width=\"24px\">\n",
              "    <g>\n",
              "        <path d=\"M19 3H5c-1.1 0-2 .9-2 2v14c0 1.1.9 2 2 2h14c1.1 0 2-.9 2-2V5c0-1.1-.9-2-2-2zM9 17H7v-7h2v7zm4 0h-2V7h2v10zm4 0h-2v-4h2v4z\"/>\n",
              "    </g>\n",
              "</svg>\n",
              "  </button>\n",
              "\n",
              "<style>\n",
              "  .colab-df-quickchart {\n",
              "      --bg-color: #E8F0FE;\n",
              "      --fill-color: #1967D2;\n",
              "      --hover-bg-color: #E2EBFA;\n",
              "      --hover-fill-color: #174EA6;\n",
              "      --disabled-fill-color: #AAA;\n",
              "      --disabled-bg-color: #DDD;\n",
              "  }\n",
              "\n",
              "  [theme=dark] .colab-df-quickchart {\n",
              "      --bg-color: #3B4455;\n",
              "      --fill-color: #D2E3FC;\n",
              "      --hover-bg-color: #434B5C;\n",
              "      --hover-fill-color: #FFFFFF;\n",
              "      --disabled-bg-color: #3B4455;\n",
              "      --disabled-fill-color: #666;\n",
              "  }\n",
              "\n",
              "  .colab-df-quickchart {\n",
              "    background-color: var(--bg-color);\n",
              "    border: none;\n",
              "    border-radius: 50%;\n",
              "    cursor: pointer;\n",
              "    display: none;\n",
              "    fill: var(--fill-color);\n",
              "    height: 32px;\n",
              "    padding: 0;\n",
              "    width: 32px;\n",
              "  }\n",
              "\n",
              "  .colab-df-quickchart:hover {\n",
              "    background-color: var(--hover-bg-color);\n",
              "    box-shadow: 0 1px 2px rgba(60, 64, 67, 0.3), 0 1px 3px 1px rgba(60, 64, 67, 0.15);\n",
              "    fill: var(--button-hover-fill-color);\n",
              "  }\n",
              "\n",
              "  .colab-df-quickchart-complete:disabled,\n",
              "  .colab-df-quickchart-complete:disabled:hover {\n",
              "    background-color: var(--disabled-bg-color);\n",
              "    fill: var(--disabled-fill-color);\n",
              "    box-shadow: none;\n",
              "  }\n",
              "\n",
              "  .colab-df-spinner {\n",
              "    border: 2px solid var(--fill-color);\n",
              "    border-color: transparent;\n",
              "    border-bottom-color: var(--fill-color);\n",
              "    animation:\n",
              "      spin 1s steps(1) infinite;\n",
              "  }\n",
              "\n",
              "  @keyframes spin {\n",
              "    0% {\n",
              "      border-color: transparent;\n",
              "      border-bottom-color: var(--fill-color);\n",
              "      border-left-color: var(--fill-color);\n",
              "    }\n",
              "    20% {\n",
              "      border-color: transparent;\n",
              "      border-left-color: var(--fill-color);\n",
              "      border-top-color: var(--fill-color);\n",
              "    }\n",
              "    30% {\n",
              "      border-color: transparent;\n",
              "      border-left-color: var(--fill-color);\n",
              "      border-top-color: var(--fill-color);\n",
              "      border-right-color: var(--fill-color);\n",
              "    }\n",
              "    40% {\n",
              "      border-color: transparent;\n",
              "      border-right-color: var(--fill-color);\n",
              "      border-top-color: var(--fill-color);\n",
              "    }\n",
              "    60% {\n",
              "      border-color: transparent;\n",
              "      border-right-color: var(--fill-color);\n",
              "    }\n",
              "    80% {\n",
              "      border-color: transparent;\n",
              "      border-right-color: var(--fill-color);\n",
              "      border-bottom-color: var(--fill-color);\n",
              "    }\n",
              "    90% {\n",
              "      border-color: transparent;\n",
              "      border-bottom-color: var(--fill-color);\n",
              "    }\n",
              "  }\n",
              "</style>\n",
              "\n",
              "  <script>\n",
              "    async function quickchart(key) {\n",
              "      const quickchartButtonEl =\n",
              "        document.querySelector('#' + key + ' button');\n",
              "      quickchartButtonEl.disabled = true;  // To prevent multiple clicks.\n",
              "      quickchartButtonEl.classList.add('colab-df-spinner');\n",
              "      try {\n",
              "        const charts = await google.colab.kernel.invokeFunction(\n",
              "            'suggestCharts', [key], {});\n",
              "      } catch (error) {\n",
              "        console.error('Error during call to suggestCharts:', error);\n",
              "      }\n",
              "      quickchartButtonEl.classList.remove('colab-df-spinner');\n",
              "      quickchartButtonEl.classList.add('colab-df-quickchart-complete');\n",
              "    }\n",
              "    (() => {\n",
              "      let quickchartButtonEl =\n",
              "        document.querySelector('#df-e6e9a9ad-a576-4190-aea2-8f6e347693f5 button');\n",
              "      quickchartButtonEl.style.display =\n",
              "        google.colab.kernel.accessAllowed ? 'block' : 'none';\n",
              "    })();\n",
              "  </script>\n",
              "</div>\n",
              "\n",
              "    </div>\n",
              "  </div>\n"
            ],
            "application/vnd.google.colaboratory.intrinsic+json": {
              "type": "dataframe",
              "variable_name": "df",
              "summary": "{\n  \"name\": \"df\",\n  \"rows\": 891,\n  \"fields\": [\n    {\n      \"column\": \"PassengerId\",\n      \"properties\": {\n        \"dtype\": \"number\",\n        \"std\": 257,\n        \"min\": 1,\n        \"max\": 891,\n        \"num_unique_values\": 891,\n        \"samples\": [\n          710,\n          440,\n          841\n        ],\n        \"semantic_type\": \"\",\n        \"description\": \"\"\n      }\n    },\n    {\n      \"column\": \"Pclass\",\n      \"properties\": {\n        \"dtype\": \"number\",\n        \"std\": 0,\n        \"min\": 1,\n        \"max\": 3,\n        \"num_unique_values\": 3,\n        \"samples\": [\n          3,\n          1,\n          2\n        ],\n        \"semantic_type\": \"\",\n        \"description\": \"\"\n      }\n    },\n    {\n      \"column\": \"Sex\",\n      \"properties\": {\n        \"dtype\": \"number\",\n        \"std\": 0,\n        \"min\": 0,\n        \"max\": 1,\n        \"num_unique_values\": 2,\n        \"samples\": [\n          1,\n          0\n        ],\n        \"semantic_type\": \"\",\n        \"description\": \"\"\n      }\n    },\n    {\n      \"column\": \"Age\",\n      \"properties\": {\n        \"dtype\": \"number\",\n        \"std\": 13.019696550973194,\n        \"min\": 0.42,\n        \"max\": 80.0,\n        \"num_unique_values\": 88,\n        \"samples\": [\n          0.75,\n          22.0\n        ],\n        \"semantic_type\": \"\",\n        \"description\": \"\"\n      }\n    },\n    {\n      \"column\": \"SibSp\",\n      \"properties\": {\n        \"dtype\": \"number\",\n        \"std\": 1,\n        \"min\": 0,\n        \"max\": 8,\n        \"num_unique_values\": 7,\n        \"samples\": [\n          1,\n          0\n        ],\n        \"semantic_type\": \"\",\n        \"description\": \"\"\n      }\n    },\n    {\n      \"column\": \"Parch\",\n      \"properties\": {\n        \"dtype\": \"number\",\n        \"std\": 0,\n        \"min\": 0,\n        \"max\": 6,\n        \"num_unique_values\": 7,\n        \"samples\": [\n          0,\n          1\n        ],\n        \"semantic_type\": \"\",\n        \"description\": \"\"\n      }\n    },\n    {\n      \"column\": \"Fare\",\n      \"properties\": {\n        \"dtype\": \"number\",\n        \"std\": 49.693428597180905,\n        \"min\": 0.0,\n        \"max\": 512.3292,\n        \"num_unique_values\": 248,\n        \"samples\": [\n          11.2417,\n          51.8625\n        ],\n        \"semantic_type\": \"\",\n        \"description\": \"\"\n      }\n    },\n    {\n      \"column\": \"Embarked\",\n      \"properties\": {\n        \"dtype\": \"number\",\n        \"std\": 0,\n        \"min\": -1,\n        \"max\": 2,\n        \"num_unique_values\": 4,\n        \"samples\": [\n          1,\n          -1\n        ],\n        \"semantic_type\": \"\",\n        \"description\": \"\"\n      }\n    },\n    {\n      \"column\": \"Title\",\n      \"properties\": {\n        \"dtype\": \"number\",\n        \"std\": 1,\n        \"min\": 0,\n        \"max\": 16,\n        \"num_unique_values\": 17,\n        \"samples\": [\n          0,\n          1\n        ],\n        \"semantic_type\": \"\",\n        \"description\": \"\"\n      }\n    },\n    {\n      \"column\": \"Survived\",\n      \"properties\": {\n        \"dtype\": \"number\",\n        \"std\": 0,\n        \"min\": 0,\n        \"max\": 1,\n        \"num_unique_values\": 2,\n        \"samples\": [\n          1,\n          0\n        ],\n        \"semantic_type\": \"\",\n        \"description\": \"\"\n      }\n    }\n  ]\n}"
            }
          },
          "metadata": {},
          "execution_count": 3
        }
      ]
    },
    {
      "cell_type": "code",
      "source": [
        "dataset_arr = df.to_numpy().astype(np.float64)\n",
        "X, y = dataset_arr[:, :-1], dataset_arr[:, 1]\n",
        "dataset_arr"
      ],
      "metadata": {
        "colab": {
          "base_uri": "https://localhost:8080/"
        },
        "id": "-VcXxxCnbJxo",
        "outputId": "b6c0bcee-0267-4485-e61d-05ebef8e13f1"
      },
      "execution_count": null,
      "outputs": [
        {
          "output_type": "execute_result",
          "data": {
            "text/plain": [
              "array([[ 3.,  0., 22., ...,  0.,  0.,  0.],\n",
              "       [ 1.,  1., 38., ...,  1.,  1.,  1.],\n",
              "       [ 3.,  1., 26., ...,  0.,  2.,  1.],\n",
              "       ...,\n",
              "       [ 3.,  1., 28., ...,  0.,  2.,  0.],\n",
              "       [ 1.,  0., 26., ...,  1.,  0.,  1.],\n",
              "       [ 3.,  0., 32., ...,  2.,  0.,  0.]])"
            ]
          },
          "metadata": {},
          "execution_count": 4
        }
      ]
    },
    {
      "cell_type": "code",
      "source": [
        "intercept = np.ones((X.shape[0], 1))\n",
        "X_b = np.concatenate((intercept, X), axis=1)\n",
        "# X_b.shape\n",
        "# X_b"
      ],
      "metadata": {
        "id": "sd1_Q_i2c-XW"
      },
      "execution_count": null,
      "outputs": []
    },
    {
      "cell_type": "code",
      "source": [
        "val_size = 0.2\n",
        "test_size = 0.125\n",
        "random_state = 42\n",
        "random_state = 2\n",
        "is_shuffle = True\n",
        "X_train, X_val, y_train, y_val = train_test_split(X_b, y, test_size=val_size, random_state=random_state, shuffle=is_shuffle)\n",
        "X_train, X_test, y_train, y_test = train_test_split(X_train, y_train, test_size=val_size, random_state=random_state, shuffle=is_shuffle)"
      ],
      "metadata": {
        "id": "YxugKD1AdVUd"
      },
      "execution_count": null,
      "outputs": []
    },
    {
      "cell_type": "code",
      "source": [
        "X_test.shape"
      ],
      "metadata": {
        "colab": {
          "base_uri": "https://localhost:8080/"
        },
        "id": "tDK2-YWnledd",
        "outputId": "427b0b16-6528-4e35-8fe7-f292aabdfe81"
      },
      "execution_count": null,
      "outputs": [
        {
          "output_type": "execute_result",
          "data": {
            "text/plain": [
              "(143, 9)"
            ]
          },
          "metadata": {},
          "execution_count": 7
        }
      ]
    },
    {
      "cell_type": "code",
      "source": [
        "X_val.shape"
      ],
      "metadata": {
        "colab": {
          "base_uri": "https://localhost:8080/"
        },
        "id": "xf6MH3CmllPU",
        "outputId": "a86dd4be-c03f-43c4-9136-52e3d95838a8"
      },
      "execution_count": null,
      "outputs": [
        {
          "output_type": "execute_result",
          "data": {
            "text/plain": [
              "(179, 9)"
            ]
          },
          "metadata": {},
          "execution_count": 8
        }
      ]
    },
    {
      "cell_type": "code",
      "source": [
        "X_train.shape"
      ],
      "metadata": {
        "colab": {
          "base_uri": "https://localhost:8080/"
        },
        "id": "_x5VWMV1bzxM",
        "outputId": "4dcdaa08-d8c7-492c-fb99-7c38e35981c4"
      },
      "execution_count": null,
      "outputs": [
        {
          "output_type": "execute_result",
          "data": {
            "text/plain": [
              "(569, 9)"
            ]
          },
          "metadata": {},
          "execution_count": 9
        }
      ]
    },
    {
      "cell_type": "code",
      "source": [
        "normalizer = StandardScaler()\n",
        "X_train = normalizer.fit_transform(X_train)\n",
        "X_val = normalizer.transform(X_val)\n",
        "X_test = normalizer.transform(X_test)\n",
        "X_train"
      ],
      "metadata": {
        "id": "0S48zGILesTt",
        "colab": {
          "base_uri": "https://localhost:8080/"
        },
        "outputId": "8745314b-92f5-4bae-c40b-9b2e78d52ab4"
      },
      "execution_count": null,
      "outputs": [
        {
          "output_type": "execute_result",
          "data": {
            "text/plain": [
              "array([[ 0.        ,  0.83301262,  1.36356022, ..., -0.48523717,\n",
              "         0.89584974,  0.10583033],\n",
              "       [ 0.        , -1.54284793,  1.36356022, ..., -0.10942737,\n",
              "        -0.59898458,  0.79798503],\n",
              "       [ 0.        ,  0.83301262, -0.73337428, ..., -0.44106773,\n",
              "        -0.59898458, -0.58632437],\n",
              "       ...,\n",
              "       [ 0.        ,  0.83301262, -0.73337428, ..., -0.47510707,\n",
              "         2.39068406, -0.58632437],\n",
              "       [ 0.        ,  0.83301262, -0.73337428, ..., -0.22661993,\n",
              "        -0.59898458, -0.58632437],\n",
              "       [ 0.        ,  0.83301262, -0.73337428, ..., -0.05934092,\n",
              "         2.39068406,  1.49013973]])"
            ]
          },
          "metadata": {},
          "execution_count": 10
        }
      ]
    },
    {
      "cell_type": "code",
      "source": [
        "def sigmoid(z):\n",
        "    return 1 / (1 + np.exp(-z))"
      ],
      "metadata": {
        "id": "-4Dy6BQrfb_m"
      },
      "execution_count": null,
      "outputs": []
    },
    {
      "cell_type": "code",
      "source": [
        "def predict(X, theta):\n",
        "    dot_product = np.dot(X, theta)\n",
        "    y_hat = sigmoid(dot_product)\n",
        "    return y_hat"
      ],
      "metadata": {
        "id": "M5PtQDG_fjVN"
      },
      "execution_count": null,
      "outputs": []
    },
    {
      "cell_type": "code",
      "source": [
        "def compute_loss(y, y_hat):\n",
        "    y_hat = np.clip(y_hat, 1e-7, 1 - 1e-7)\n",
        "    loss = (-y.T * np.log(y_hat) - (1 - y).T * np.log(1 - y_hat)).mean()\n",
        "    return loss"
      ],
      "metadata": {
        "id": "nMX1HJGRgaiX"
      },
      "execution_count": null,
      "outputs": []
    },
    {
      "cell_type": "code",
      "source": [
        "def compute_gradient(X, y, y_hat):\n",
        "    gradient = np.dot(X, (y_hat - y).T) / y.size\n",
        "    return gradient"
      ],
      "metadata": {
        "id": "aTf9e69xhBR1"
      },
      "execution_count": null,
      "outputs": []
    },
    {
      "cell_type": "code",
      "source": [
        "def update_theta(theta, gradient, learning_rate):\n",
        "    theta = theta - learning_rate * gradient\n",
        "    return theta\n"
      ],
      "metadata": {
        "id": "qlI7zP0ohJFV"
      },
      "execution_count": null,
      "outputs": []
    },
    {
      "cell_type": "code",
      "source": [
        "def compute_accuracy(X, y, theta):\n",
        "  y_hat = predict(X, theta).round()\n",
        "  acc = (y_hat == y).mean()\n",
        "  return acc"
      ],
      "metadata": {
        "id": "qkvNABibhRgv"
      },
      "execution_count": null,
      "outputs": []
    },
    {
      "cell_type": "code",
      "source": [
        "lr = 0.01\n",
        "epochs = 100\n",
        "batch_size = 16\n",
        "\n",
        "np.random.seed(random_state)\n",
        "theta = np.random.uniform(X_train.shape[1])"
      ],
      "metadata": {
        "id": "f_53EvbCrE-_"
      },
      "execution_count": null,
      "outputs": []
    },
    {
      "cell_type": "code",
      "source": [
        "theta"
      ],
      "metadata": {
        "colab": {
          "base_uri": "https://localhost:8080/"
        },
        "id": "Pdf31v7ClrN_",
        "outputId": "1ce97b5e-0433-4ad1-bb66-f8fabe5ff747"
      },
      "execution_count": null,
      "outputs": [
        {
          "output_type": "execute_result",
          "data": {
            "text/plain": [
              "5.51204078286397"
            ]
          },
          "metadata": {},
          "execution_count": 18
        }
      ]
    },
    {
      "cell_type": "code",
      "source": [
        "lr = 0.01\n",
        "epochs = 100\n",
        "batch_size = 16\n",
        "\n",
        "np.random.seed(random_state)\n",
        "theta = np.random.uniform(X_train.shape[1])\n",
        "\n",
        "train_accs = []\n",
        "train_losses = []\n",
        "val_accs = []\n",
        "val_losses = []\n",
        "\n",
        "for epoch in range(epochs):\n",
        "  train_batch_losses = []\n",
        "  train_batch_accs = []\n",
        "  val_batch_losses = []\n",
        "  val_batch_accs = []\n",
        "\n",
        "  for i in range(0, X_train.shape[0], batch_size):\n",
        "    X_i = X_train[i : i + batch_size]\n",
        "    Y_i = y_train[i : i + batch_size]\n",
        "\n",
        "    y_hat = predict(X_i, theta)\n",
        "    train_loss = compute_loss(y_hat, Y_i)\n",
        "\n",
        "    gradient = compute_gradient(X_i, Y_i, y_hat)\n",
        "    #gradient = np.dot(X_i, (y_hat - Y_i)) / Y_i.size\n",
        "    theta = update_theta(theta, gradient, lr)\n",
        "\n",
        "    train_batch_losses.append(train_loss)\n",
        "\n",
        "    #train_acc = compute_accuracy(X_train, y_train, theta)\n",
        "    y_hat = predict(X_train, theta).round()\n",
        "    train_acc = (y_hat == y_train).mean()\n",
        "    train_batch_accs.append(train_acc)\n",
        "\n",
        "\n",
        "    y_val_hat = predict(X_val, theta)\n",
        "    val_loss = compute_loss(y_val_hat, y_val)\n",
        "    val_batch_losses.append(val_loss)\n",
        "\n",
        "    val_acc = compute_accuracy(X_val, y_val, theta)\n",
        "    # y_val_hat = predict(X_val, theta).round()\n",
        "    # val_acc = (y_val_hat == y_val).mean()\n",
        "    val_batch_accs.append(val_acc)\n",
        "\n",
        "    train_batch_losses = np.mean(train_batch_losses)\n",
        "    train_batch_accs = np.mean(train_batch_accs)\n",
        "    val_batch_losses = np.mean(val_batch_losses)\n",
        "    val_batch_accs = np.mean(val_batch_accs)\n",
        "\n",
        "    train_losses.append(train_batch_losses)\n",
        "    train_accs.append(train_batch_accs)\n",
        "    val_losses.append(val_batch_losses)\n",
        "    val_accs.append(val_batch_accs)\n",
        "\n",
        "    print (f'\\ nEPOCH { epoch + 1}:\\ tTraining loss : { train_batch_loss :.3}\\ tValidation loss : { val_batch_loss :.3 f}')\n"
      ],
      "metadata": {
        "id": "2EQeYqhpqqD-",
        "colab": {
          "base_uri": "https://localhost:8080/",
          "height": 297
        },
        "outputId": "de9d1484-1dba-471e-f7f8-12cda6c3d80a"
      },
      "execution_count": null,
      "outputs": [
        {
          "output_type": "error",
          "ename": "ValueError",
          "evalue": "operands could not be broadcast together with shapes (16,9) (16,) ",
          "traceback": [
            "\u001b[0;31m---------------------------------------------------------------------------\u001b[0m",
            "\u001b[0;31mValueError\u001b[0m                                Traceback (most recent call last)",
            "\u001b[0;32m<ipython-input-19-be0fb39683e5>\u001b[0m in \u001b[0;36m<cell line: 13>\u001b[0;34m()\u001b[0m\n\u001b[1;32m     24\u001b[0m     \u001b[0mtrain_loss\u001b[0m \u001b[0;34m=\u001b[0m \u001b[0mcompute_loss\u001b[0m\u001b[0;34m(\u001b[0m\u001b[0my_hat\u001b[0m\u001b[0;34m,\u001b[0m \u001b[0mY_i\u001b[0m\u001b[0;34m)\u001b[0m\u001b[0;34m\u001b[0m\u001b[0;34m\u001b[0m\u001b[0m\n\u001b[1;32m     25\u001b[0m \u001b[0;34m\u001b[0m\u001b[0m\n\u001b[0;32m---> 26\u001b[0;31m     \u001b[0mgradient\u001b[0m \u001b[0;34m=\u001b[0m \u001b[0mcompute_gradient\u001b[0m\u001b[0;34m(\u001b[0m\u001b[0mX_i\u001b[0m\u001b[0;34m,\u001b[0m \u001b[0mY_i\u001b[0m\u001b[0;34m,\u001b[0m \u001b[0my_hat\u001b[0m\u001b[0;34m)\u001b[0m\u001b[0;34m\u001b[0m\u001b[0;34m\u001b[0m\u001b[0m\n\u001b[0m\u001b[1;32m     27\u001b[0m     \u001b[0;31m#gradient = np.dot(X_i, (y_hat - Y_i)) / Y_i.size\u001b[0m\u001b[0;34m\u001b[0m\u001b[0;34m\u001b[0m\u001b[0m\n\u001b[1;32m     28\u001b[0m     \u001b[0mtheta\u001b[0m \u001b[0;34m=\u001b[0m \u001b[0mupdate_theta\u001b[0m\u001b[0;34m(\u001b[0m\u001b[0mtheta\u001b[0m\u001b[0;34m,\u001b[0m \u001b[0mgradient\u001b[0m\u001b[0;34m,\u001b[0m \u001b[0mlr\u001b[0m\u001b[0;34m)\u001b[0m\u001b[0;34m\u001b[0m\u001b[0;34m\u001b[0m\u001b[0m\n",
            "\u001b[0;32m<ipython-input-14-78cde97f240a>\u001b[0m in \u001b[0;36mcompute_gradient\u001b[0;34m(X, y, y_hat)\u001b[0m\n\u001b[1;32m      1\u001b[0m \u001b[0;32mdef\u001b[0m \u001b[0mcompute_gradient\u001b[0m\u001b[0;34m(\u001b[0m\u001b[0mX\u001b[0m\u001b[0;34m,\u001b[0m \u001b[0my\u001b[0m\u001b[0;34m,\u001b[0m \u001b[0my_hat\u001b[0m\u001b[0;34m)\u001b[0m\u001b[0;34m:\u001b[0m\u001b[0;34m\u001b[0m\u001b[0;34m\u001b[0m\u001b[0m\n\u001b[0;32m----> 2\u001b[0;31m     \u001b[0mgradient\u001b[0m \u001b[0;34m=\u001b[0m \u001b[0mnp\u001b[0m\u001b[0;34m.\u001b[0m\u001b[0mdot\u001b[0m\u001b[0;34m(\u001b[0m\u001b[0mX\u001b[0m\u001b[0;34m,\u001b[0m \u001b[0;34m(\u001b[0m\u001b[0my_hat\u001b[0m \u001b[0;34m-\u001b[0m \u001b[0my\u001b[0m\u001b[0;34m)\u001b[0m\u001b[0;34m.\u001b[0m\u001b[0mT\u001b[0m\u001b[0;34m)\u001b[0m \u001b[0;34m/\u001b[0m \u001b[0my\u001b[0m\u001b[0;34m.\u001b[0m\u001b[0msize\u001b[0m\u001b[0;34m\u001b[0m\u001b[0;34m\u001b[0m\u001b[0m\n\u001b[0m\u001b[1;32m      3\u001b[0m     \u001b[0;32mreturn\u001b[0m \u001b[0mgradient\u001b[0m\u001b[0;34m\u001b[0m\u001b[0;34m\u001b[0m\u001b[0m\n",
            "\u001b[0;31mValueError\u001b[0m: operands could not be broadcast together with shapes (16,9) (16,) "
          ]
        }
      ]
    },
    {
      "cell_type": "code",
      "source": [
        "# # DEMO code\n",
        "X_i = X_train[0 : 1]\n",
        "Y_i = y_train[0 : 1]\n",
        "\n",
        "np.random.seed(random_state)\n",
        "theta = np.random.uniform(size=X_train.shape[1])\n",
        "learning_rate = 0.01"
      ],
      "metadata": {
        "id": "fnj6hLt8iNUf"
      },
      "execution_count": null,
      "outputs": []
    },
    {
      "cell_type": "code",
      "source": [
        "theta.shape"
      ],
      "metadata": {
        "id": "ZcmJo5Ldi-t4"
      },
      "execution_count": null,
      "outputs": []
    },
    {
      "cell_type": "code",
      "source": [
        "X_i.shape, Y_i.shape, y_hat.shape"
      ],
      "metadata": {
        "id": "KvPtCcm7cy3f"
      },
      "execution_count": null,
      "outputs": []
    },
    {
      "cell_type": "code",
      "source": [
        "(y_hat - Y_i).shape"
      ],
      "metadata": {
        "id": "HW64UH_Fc37X"
      },
      "execution_count": null,
      "outputs": []
    },
    {
      "cell_type": "code",
      "source": [
        "dot_product = np.dot(X_train, theta)\n",
        "y_hat = sigmoid(dot_product)\n",
        "#dot_product.shape, y_hat.shape\n",
        "#y_hat\n",
        "loss = compute_loss(y_hat, Y_i)\n",
        "#loss\n",
        "gradient = np.dot(X_train.T, (y_hat - y_train)) / Y_i.size\n",
        "# gradient\n",
        "# theta = update_theta(theta, gradient, learning_rate)\n",
        "# # theta"
      ],
      "metadata": {
        "id": "kRohDiApkwhN"
      },
      "execution_count": null,
      "outputs": []
    },
    {
      "cell_type": "markdown",
      "source": [],
      "metadata": {
        "id": "hy4_eWlcjbQI"
      }
    },
    {
      "cell_type": "markdown",
      "source": [],
      "metadata": {
        "id": "xUkIV8hfjbY5"
      }
    },
    {
      "cell_type": "markdown",
      "source": [],
      "metadata": {
        "id": "0oAkasMMjbhP"
      }
    },
    {
      "cell_type": "code",
      "source": [
        "!gdown 1dANzxlEjeCEbveFOWWqzSG-niVx-vCgK"
      ],
      "metadata": {
        "id": "I86BywDJjbzf"
      },
      "execution_count": null,
      "outputs": []
    },
    {
      "cell_type": "code",
      "source": [
        "import pandas as pd\n",
        "import numpy as np\n",
        "import re\n",
        "import nltk\n",
        "\n",
        "import matplotlib.pyplot as plt\n",
        "\n",
        "from sklearn.model_selection import train_test_split\n",
        "from sklearn.preprocessing import StandardScaler\n",
        "from nltk.tokenize import TweetTokenizer\n",
        "from collections import defaultdict\n",
        "from nltk.corpus import stopwords\n",
        "from nltk.stem import PorterStemmer"
      ],
      "metadata": {
        "id": "Q8Nb7DnkLNJu"
      },
      "execution_count": null,
      "outputs": []
    },
    {
      "cell_type": "code",
      "source": [
        "dataset_path = '/content/sentiment_analysis.csv'\n",
        "df = pd.read_csv(dataset_path, index_col='id')\n",
        "df.head()"
      ],
      "metadata": {
        "id": "PnwQgbTvL0e8"
      },
      "execution_count": null,
      "outputs": []
    },
    {
      "cell_type": "code",
      "source": [
        "def text_normalize(text):\n",
        "    # Retweet old acronym \"RT\" removal\n",
        "    text = re.sub(r'^RT[\\s]+', '', text)\n",
        "\n",
        "    # Hyperlinks removal\n",
        "    text = re.sub(r'https?://[^\\s]+', '', text)\n",
        "\n",
        "    # Hashtags removal\n",
        "    text = re.sub(r'#', '', text)\n",
        "\n",
        "    # Punctuation removal\n",
        "    text = re.sub(r'[^\\w\\s]', '', text)\n",
        "\n",
        "    # Tokenization\n",
        "    tokenizer = TweetTokenizer(\n",
        "        preserve_case=False,\n",
        "        strip_handles=True,\n",
        "        reduce_len=True\n",
        "    )\n",
        "    text_tokens = tokenizer.tokenize(text)\n",
        "\n",
        "    return text_tokens\n"
      ],
      "metadata": {
        "id": "8B_vFc7nMHW8"
      },
      "execution_count": null,
      "outputs": []
    },
    {
      "cell_type": "code",
      "source": [
        "\n",
        "def get_freqs(df):\n",
        "    freqs = defaultdict(lambda: 0)\n",
        "    for idx, row in df.iterrows():\n",
        "        tweet = row['tweet']\n",
        "        label = row['label']\n",
        "\n",
        "        tokens = text_normalize(tweet)\n",
        "        for token in tokens:\n",
        "            pair = (token, label)\n",
        "            freqs[pair] += 1\n",
        "\n",
        "    return freqs\n"
      ],
      "metadata": {
        "id": "cQ6TV7jfMg0M"
      },
      "execution_count": null,
      "outputs": []
    },
    {
      "cell_type": "code",
      "source": [
        "import numpy as np\n",
        "\n",
        "def get_feature(text, freqs):\n",
        "    tokens = text_normalize(text)\n",
        "\n",
        "    X = np.zeros(3)\n",
        "    X[0] = 1  # Bias term\n",
        "\n",
        "    for token in tokens:\n",
        "        X[1] += freqs.get((token, 0), 0)\n",
        "        X[2] += freqs.get((token, 1), 0)\n",
        "\n",
        "    return X\n"
      ],
      "metadata": {
        "id": "Ugk_9I6zi0kr"
      },
      "execution_count": null,
      "outputs": []
    },
    {
      "cell_type": "code",
      "source": [
        "from sklearn.model_selection import train_test_split\n",
        "\n",
        "# Parameters for splitting\n",
        "val_size = 0.2\n",
        "test_size = 0.125\n",
        "random_state = 2\n",
        "is_shuffle = True\n",
        "\n",
        "# First split: Training and validation\n",
        "X_train, X_val, y_train, y_val = train_test_split(\n",
        "    X, y,\n",
        "    test_size=val_size,\n",
        "    random_state=random_state,\n",
        "    shuffle=is_shuffle\n",
        ")\n",
        "\n",
        "# Second split: Training and test\n",
        "X_train, X_test, y_train, y_test = train_test_split(\n",
        "    X_train, y_train,\n",
        "    test_size=test_size,\n",
        "    random_state=random_state,\n",
        "    shuffle=is_shuffle\n",
        ")\n"
      ],
      "metadata": {
        "id": "EixztKh3qPcb"
      },
      "execution_count": null,
      "outputs": []
    },
    {
      "cell_type": "code",
      "source": [
        "from sklearn.preprocessing import StandardScaler\n",
        "\n",
        "# Initialize the scaler\n",
        "normalizer = StandardScaler()\n",
        "\n",
        "# Fit the scaler on the training set and transform\n",
        "X_train[:, 1:] = normalizer.fit_transform(X_train[:, 1:])\n",
        "\n",
        "# Transform the validation and test sets using the same scaler\n",
        "X_val[:, 1:] = normalizer.transform(X_val[:, 1:])\n",
        "X_test[:, 1:] = normalizer.transform(X_test[:, 1:])\n"
      ],
      "metadata": {
        "id": "4REGIS9HqU2z"
      },
      "execution_count": null,
      "outputs": []
    },
    {
      "cell_type": "code",
      "source": [
        "import numpy as np\n",
        "\n",
        "# Hyperparameters\n",
        "lr = 0.01\n",
        "epochs = 200\n",
        "batch_size = 128\n",
        "\n",
        "# Set random seed for reproducibility\n",
        "np.random.seed(random_state)\n",
        "\n",
        "# Initialize weights (theta) with random values\n",
        "theta = np.random.uniform(size=X_train.shape[1])\n"
      ],
      "metadata": {
        "id": "kXVOezE5qtKS"
      },
      "execution_count": null,
      "outputs": []
    },
    {
      "cell_type": "code",
      "source": [],
      "metadata": {
        "id": "RFZB0E5AqwPi"
      },
      "execution_count": null,
      "outputs": []
    }
  ]
}